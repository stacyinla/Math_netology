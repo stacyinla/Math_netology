{
 "cells": [
  {
   "cell_type": "markdown",
   "metadata": {
    "colab_type": "text",
    "id": "view-in-github"
   },
   "source": [
    "<a href=\"https://colab.research.google.com/github/yustinaivanova/math_netology/blob/master/dz_1.ipynb\" target=\"_parent\"><img src=\"https://colab.research.google.com/assets/colab-badge.svg\" alt=\"Open In Colab\"/></a>"
   ]
  },
  {
   "cell_type": "markdown",
   "metadata": {
    "colab_type": "text",
    "id": "hTHl3kyDWIGO"
   },
   "source": [
    "# Математики для data science.\n",
    "# Домашнее задание 1."
   ]
  },
  {
   "cell_type": "code",
   "execution_count": 3,
   "metadata": {},
   "outputs": [],
   "source": [
    "import numpy as np\n",
    "import matplotlib.pyplot as plt\n",
    "import pandas as pd\n",
    "%matplotlib inline"
   ]
  },
  {
   "cell_type": "markdown",
   "metadata": {
    "colab_type": "text",
    "id": "OAJG6826Pnft"
   },
   "source": [
    "**Задание на отображение множеств.**"
   ]
  },
  {
   "cell_type": "markdown",
   "metadata": {
    "colab_type": "text",
    "id": "lHtJSvE3Pt9i"
   },
   "source": [
    "**Задание 1.**"
   ]
  },
  {
   "cell_type": "markdown",
   "metadata": {
    "colab_type": "text",
    "id": "pRTF1ROCPxoR"
   },
   "source": [
    "Написать функцию отображения элементов одного множества в другое. Первое множество - художники, второе множество - картины художников.\n",
    "Множество художников - Серов, Левитан, Репин, Васнецов, Шишкин. \n",
    "Множество картин - \"Утро в сосновом бору\", \"Богатыри\", \"Золотая осень\", \"Девочка с персиками\", \"Запорожцы\", \"Буралки на Волге\", \"Март\", \"Алёнушка\". \n"
   ]
  },
  {
   "cell_type": "code",
   "execution_count": 2,
   "metadata": {},
   "outputs": [],
   "source": [
    "painters_dict = dict()\n",
    "painters_dict[\"Серов\"] = [\"Девочка с персиками\"]\n",
    "painters_dict[\"Левитан\"] = [\"Золотая осень\", \"Март\"]\n",
    "painters_dict[\"Репин\"] = [\"Запорожцы\", \"Буралки на Волге\"]\n",
    "painters_dict[\"Васнецов\"] = [\"Богатыри\", \"Алёнушка\"]\n",
    "painters_dict[\"Шишкин\"] = [\"Утро в сосновом бору\"]"
   ]
  },
  {
   "cell_type": "code",
   "execution_count": 53,
   "metadata": {},
   "outputs": [],
   "source": [
    "def pic(painter):\n",
    "    if painter in painters_dict:\n",
    "        return(painters_dict[painter])\n",
    "    else:\n",
    "        return 0\n",
    "    "
   ]
  },
  {
   "cell_type": "code",
   "execution_count": 54,
   "metadata": {},
   "outputs": [
    {
     "data": {
      "text/plain": [
       "['Золотая осень', 'Март']"
      ]
     },
     "execution_count": 54,
     "metadata": {},
     "output_type": "execute_result"
    }
   ],
   "source": [
    "pic(\"Левитан\")"
   ]
  },
  {
   "cell_type": "code",
   "execution_count": 55,
   "metadata": {},
   "outputs": [
    {
     "data": {
      "text/plain": [
       "0"
      ]
     },
     "execution_count": 55,
     "metadata": {},
     "output_type": "execute_result"
    }
   ],
   "source": [
    "pic(\"Моне\")"
   ]
  },
  {
   "cell_type": "code",
   "execution_count": 56,
   "metadata": {},
   "outputs": [
    {
     "data": {
      "text/plain": [
       "['Утро в сосновом бору']"
      ]
     },
     "execution_count": 56,
     "metadata": {},
     "output_type": "execute_result"
    }
   ],
   "source": [
    "pic(\"Шишкин\")"
   ]
  },
  {
   "cell_type": "code",
   "execution_count": 57,
   "metadata": {},
   "outputs": [
    {
     "data": {
      "text/plain": [
       "0"
      ]
     },
     "execution_count": 57,
     "metadata": {},
     "output_type": "execute_result"
    }
   ],
   "source": [
    "pic(\"Рембрандт\")"
   ]
  },
  {
   "cell_type": "markdown",
   "metadata": {
    "colab_type": "text",
    "id": "4QwS5m7CWXY3"
   },
   "source": [
    "**Полиномиальные функции.**"
   ]
  },
  {
   "cell_type": "markdown",
   "metadata": {
    "colab_type": "text",
    "id": "thQjcSL7WbIY"
   },
   "source": [
    "**Задание 2**. Найти из следующих функций те, которые являются полиномиальной функцией."
   ]
  },
  {
   "cell_type": "markdown",
   "metadata": {},
   "source": [
    "$$f(x)=\\frac{1}{2}x^{6}-1\\frac{5}{6}x+\\frac{1}{3}$$ "
   ]
  },
  {
   "cell_type": "markdown",
   "metadata": {},
   "source": [
    "Да, степень полинома 6"
   ]
  },
  {
   "cell_type": "markdown",
   "metadata": {},
   "source": [
    "$$f(x)=\\frac{3x^{6}-11x+2}{6}$$"
   ]
  },
  {
   "cell_type": "markdown",
   "metadata": {},
   "source": [
    "Да, степень полинома 6"
   ]
  },
  {
   "cell_type": "markdown",
   "metadata": {},
   "source": [
    "$$f(x)=\\frac{3x^{6}-11x+2}{6x}$$"
   ]
  },
  {
   "cell_type": "markdown",
   "metadata": {},
   "source": [
    "Нет, так как у третьего члена степень у *x* отрицательная (-1)"
   ]
  },
  {
   "cell_type": "markdown",
   "metadata": {},
   "source": [
    "$$f(x)=x^{5}-3x^{2}+7x^{-2}$$"
   ]
  },
  {
   "cell_type": "markdown",
   "metadata": {},
   "source": [
    "Нет, так как у третьего члена степень у x отрицательная (-2)"
   ]
  },
  {
   "cell_type": "markdown",
   "metadata": {},
   "source": [
    "$$f(x)=(5x^{2}-2)^3-\\frac{1}{2}x^{3}$$"
   ]
  },
  {
   "cell_type": "markdown",
   "metadata": {},
   "source": [
    "Да, степень полинома 4"
   ]
  },
  {
   "cell_type": "markdown",
   "metadata": {
    "colab_type": "text",
    "id": "GbDQjj-pWjqm"
   },
   "source": [
    "$$f(x)=(1+\\sqrt{x})^{3}-5(1+\\sqrt{x})$$"
   ]
  },
  {
   "cell_type": "markdown",
   "metadata": {},
   "source": [
    "Нет, степени некоторых членов не принадлежат множеству натуральных чисел"
   ]
  },
  {
   "cell_type": "markdown",
   "metadata": {},
   "source": [
    "$$f(x)=\\pi $$"
   ]
  },
  {
   "cell_type": "markdown",
   "metadata": {},
   "source": [
    "Да, степень полинома 0"
   ]
  },
  {
   "cell_type": "markdown",
   "metadata": {
    "colab_type": "text",
    "id": "2SOZDLZQW9vK"
   },
   "source": [
    "**Задание 3**. Раскрыть скобки для следующего полинома $$(2x+1)^{2}(x-1)-x(4x^{2}-1)-x(4x^{2}-1)=ax^3+bx^2+cx+d$$ найти коэффициенты для a, b, c, d."
   ]
  },
  {
   "cell_type": "markdown",
   "metadata": {},
   "source": [
    "Ответ:a = -4, b = 0 , c = -1, d = -1"
   ]
  },
  {
   "cell_type": "markdown",
   "metadata": {
    "colab_type": "text",
    "id": "FW0p4xjzIdRZ"
   },
   "source": [
    "Для данного задания полезно использовать следующие формулы сокращенного умножения:\n",
    "![alt text](https://sun9-38.userapi.com/c851232/v851232044/19c5b0/7Yy6qz-MUHA.jpg)"
   ]
  },
  {
   "cell_type": "markdown",
   "metadata": {
    "colab_type": "text",
    "id": "hETFA0bzXYdw"
   },
   "source": [
    "Чему равна степень полинома?\n",
    "\n",
    "Ответ: 3"
   ]
  },
  {
   "cell_type": "markdown",
   "metadata": {
    "colab_type": "text",
    "id": "EH8FFbsvt64f"
   },
   "source": [
    "Нарисовать график для полинома. $$(2x+1)^{2}(x-1)-x(4x^{2}-1)-x(4x^{2}-1)=-4x^3-x-1$$"
   ]
  },
  {
   "cell_type": "code",
   "execution_count": 64,
   "metadata": {
    "colab": {},
    "colab_type": "code",
    "id": "wk89rocGSoYC"
   },
   "outputs": [
    {
     "data": {
      "image/png": "[encoded data removed]",
      "text/plain": [
       "<Figure size 432x288 with 1 Axes>"
      ]
     },
     "metadata": {
      "needs_background": "light"
     },
     "output_type": "display_data"
    }
   ],
   "source": [
    "def func(x):\n",
    "    # написать функцию\n",
    "    y = -4*pow(x, 3) - pow(x, 2) - 1\n",
    "    return y\n",
    "\n",
    "  \n",
    "# создаем вектор x\n",
    "x1 = np.linspace(-100.0, 100.0, 1000)\n",
    "# на основе вектора x строим значения для вектора y\n",
    "y1 = [func(x1[i]) for i in range(len(x1))]\n",
    "\n",
    "plt.plot(x1, y1)\n",
    "plt.title('График функции')\n",
    "plt.ylabel('y')\n",
    "plt.xlabel('x')\n",
    "\n",
    "plt.show()"
   ]
  },
  {
   "cell_type": "markdown",
   "metadata": {
    "colab_type": "text",
    "id": "YnGld7mvZNUB"
   },
   "source": [
    "**Задание 3**.\n",
    "Для заданных функций найти подходящий график (не все функции имеют график):\n",
    "\n",
    "1) $\\frac{3}{4}x-1$,  \n",
    "\n",
    "2) $\\frac{3}{4}x+2$, \n",
    "\n",
    "3) $2-2x$, \n",
    "\n",
    "4) $2+2x$, \n",
    "\n",
    "5) $\\frac{1}{4}(x+1)^{2}-2 $, \n",
    "\n",
    "6) $\\frac{1}{4}(x-1)^2-2$, \n",
    "\n",
    "7) $(x-1)(x-3)$, \n",
    "\n",
    "8) $(x+1)(x+3)$, \n",
    "\n",
    "9) $2-x^2$, \n",
    "\n",
    "10) $2-\\frac{1}{4}x^2$"
   ]
  },
  {
   "cell_type": "code",
   "execution_count": 26,
   "metadata": {},
   "outputs": [
    {
     "data": {
      "image/png": "[encoded data removed]",
      "text/plain": [
       "<Figure size 1440x360 with 10 Axes>"
      ]
     },
     "metadata": {
      "needs_background": "light"
     },
     "output_type": "display_data"
    }
   ],
   "source": [
    "def func1(x):\n",
    "    y = (0.75)*x - 1\n",
    "    return y\n",
    "def func2(x):\n",
    "    y = (0.75)*x + 2\n",
    "    return y\n",
    "def func3(x):\n",
    "    y = 2 - 2*x\n",
    "    return y\n",
    "def func4(x):\n",
    "    y = 2 + 2*x\n",
    "    return y\n",
    "def func5(x):\n",
    "    y = (0.25)*pow((x+1),2) - 2\n",
    "    return y\n",
    "def func6(x):\n",
    "    y = (0.25)*pow((x-1),2) - 2\n",
    "    return y\n",
    "def func7(x):\n",
    "    y = (x-1)*(x-3)\n",
    "    return y\n",
    "def func8(x):\n",
    "    y = (x+1)*(x+3)\n",
    "    return y\n",
    "def func9(x):\n",
    "    y = (-1) * x * x + 2\n",
    "    return y\n",
    "def func10(x):\n",
    "    y = (-0.25) * x * x + 2 \n",
    "    return y\n",
    "\n",
    "x1 = np.linspace(-3.0, 3.0, 10)\n",
    "y1 = [func1(x1[i]) for i in range(len(x1))]\n",
    "y2 = [func2(x1[i]) for i in range(len(x1))]\n",
    "y3 = [func3(x1[i]) for i in range(len(x1))]\n",
    "y4 = [func4(x1[i]) for i in range(len(x1))]\n",
    "y5 = [func5(x1[i]) for i in range(len(x1))]\n",
    "y6 = [func6(x1[i]) for i in range(len(x1))]\n",
    "y7 = [func7(x1[i]) for i in range(len(x1))]\n",
    "y8 = [func8(x1[i]) for i in range(len(x1))]\n",
    "y9 = [func9(x1[i]) for i in range(len(x1))]\n",
    "y10 = [func10(x1[i]) for i in range(len(x1))]\n",
    "\n",
    "plt.figure(figsize=(20, 5))\n",
    "plt.subplot(1,10,1)\n",
    "plt.plot(x1,y1)\n",
    "plt.title('1')\n",
    "plt.grid(True)\n",
    "\n",
    "plt.subplot(1,10,2)\n",
    "plt.plot(x1,y2)\n",
    "plt.title('2')\n",
    "plt.grid(True)\n",
    "\n",
    "plt.subplot(1,10,3)\n",
    "plt.plot(x1,y3)\n",
    "plt.title('3')\n",
    "plt.grid(True)\n",
    "\n",
    "plt.subplot(1,10,4)\n",
    "plt.plot(x1,y4)\n",
    "plt.title('4')\n",
    "plt.grid(True)\n",
    "\n",
    "plt.subplot(1,10,5)\n",
    "plt.plot(x1,y5)\n",
    "plt.title('5')\n",
    "plt.grid(True)\n",
    "\n",
    "plt.subplot(1,10,6)\n",
    "plt.plot(x1,y6)\n",
    "plt.title('6')\n",
    "plt.grid(True)\n",
    "\n",
    "plt.subplot(1,10,7)\n",
    "plt.plot(x1,y7)\n",
    "plt.title('7')\n",
    "plt.grid(True)\n",
    "plt.subplot(1,10,8)\n",
    "plt.plot(x1,y8)\n",
    "plt.title('8')\n",
    "plt.grid(True)\n",
    "plt.subplot(1,10,9)\n",
    "plt.plot(x1,y9)\n",
    "plt.title('9')\n",
    "plt.grid(True)\n",
    "plt.subplot(1,10,10)\n",
    "plt.plot(x1,y10)\n",
    "plt.title('10')\n",
    "plt.grid(True)\n",
    "\n",
    "plt.show()"
   ]
  },
  {
   "cell_type": "markdown",
   "metadata": {
    "colab_type": "text",
    "id": "8TCnR4urZX_A"
   },
   "source": [
    "![alt text](https://pp.userapi.com/c855532/v855532908/aadd4/uWjIZGDfw0s.jpg)\n"
   ]
  },
  {
   "cell_type": "markdown",
   "metadata": {},
   "source": [
    "1 -> 3) $2-2x$\n",
    "Линейная функция, при х = 0, значение функции  = 2, коэффициент при х отрицательный, наклон прямой в данном случае \"в обратную сторону\" (функция убывает)\n",
    "\n",
    "2 -> 10) $2-\\frac{1}{4}x^2$\n",
    "Квадратичная функция с отрицательным коэффициентом а (ветви параболы смотрят вниз), при этом а = -1/4, что делает параболу более \"широкой\", коэффициент с = 2 \"поднимает\" параболу над осью х на 2\n",
    "\n",
    "3 -> 9) $2-x^2$, \n",
    "То же самое, что в прошлом графике, но коэффициент а = -1, что не дает \"расширения\" параболы\n",
    "\n",
    "4 -> 5) $\\frac{1}{4}(x+1)^{2}-2 $, \n",
    "При х = 0 значение функции = -1,75 (с = -1,75)\n",
    "За счет коэффициента b = 1/2, график \"сдвинут влево\"\n",
    "\n",
    "5 -> 1) $\\frac{3}{4}x-1$,  Линейная функция, при х = 0, значение функции  = -1, коэффициент при х положительный, функция возрастает\n",
    "\n",
    "6 -> ни одна не подходит, так как в 6) $\\frac{1}{4}(x-1)^2-2$ коэффициент с = -1.75, а в данном графике значение функции положительно при х = 0. Остальные совсем не подходят."
   ]
  },
  {
   "cell_type": "markdown",
   "metadata": {
    "colab_type": "text",
    "id": "v4PsJSrlbGni"
   },
   "source": [
    "**Задание 4.** Найти минимальную степень следующего полинома:\n",
    "\n",
    "![alt text](https://pp.userapi.com/c855532/v855532908/aadcd/PZdPYTQT02A.jpg)"
   ]
  },
  {
   "cell_type": "markdown",
   "metadata": {},
   "source": [
    "Ответ: 5, на графике видно как минимум 5 значений х при у = 0"
   ]
  },
  {
   "cell_type": "markdown",
   "metadata": {
    "colab_type": "text",
    "id": "In-LISkBGJ1u"
   },
   "source": [
    "**Задания повышенного уровня**"
   ]
  },
  {
   "cell_type": "markdown",
   "metadata": {
    "colab_type": "text",
    "id": "FGmhJtvceZO6"
   },
   "source": [
    "Почему следующие функции не являются полиномиальными?\n",
    "\n",
    "$y=5x^{-2}+1$ - степень при х не является натуральным числом (-2)\n",
    "\n",
    "$y=3x^{1/2}+2$  - степень при х не является натуральным числом (0.5)\n",
    "\n",
    "$y=(5x+1)/(3x)$ - степень при х не является натуральным числом (-1)"
   ]
  },
  {
   "cell_type": "markdown",
   "metadata": {
    "colab_type": "text",
    "id": "XyzbTtgEezLl"
   },
   "source": [
    "Найдите наибольшее и наименьшее значение функции $y = x^3 + 2x^2 + x + 3 $ на отрезке [-4;-1]. "
   ]
  },
  {
   "cell_type": "code",
   "execution_count": 31,
   "metadata": {},
   "outputs": [
    {
     "name": "stdout",
     "output_type": "stream",
     "text": [
      "x значение, при котором y минимально:  -4.0\n",
      "минимальное значение функции:  -33.0\n",
      "x значение, при котором y максимально:  -1.0\n",
      "максимальное значение функции:  3.0\n"
     ]
    }
   ],
   "source": [
    "x = np.linspace(-4.0, -1.0, 100)\n",
    "y = [x[i]**3 + 2*x[i]**2 + x[i] + 3 for i in range(len(x))]\n",
    "min_x = np.argmin(y)         #индекс минимального значения\n",
    "print('x значение, при котором y минимально: ', x[min_x])\n",
    "print('минимальное значение функции: ', y[min_x])\n",
    "max_x = np.argmax(y)         #индекс максимального значения\n",
    "print('x значение, при котором y максимально: ', x[max_x])\n",
    "print('максимальное значение функции: ', y[max_x])"
   ]
  },
  {
   "cell_type": "markdown",
   "metadata": {},
   "source": [
    "Пример линейной регрессии - это применение полиномов на практике. В следующем примере дан датасет x, y, сгенерированный рандомно. Мы можем использовать линейную регрессию, чтобы предсказать значение переменной y от x."
   ]
  },
  {
   "cell_type": "code",
   "execution_count": 32,
   "metadata": {
    "colab": {
     "base_uri": "https://localhost:8080/",
     "height": 269
    },
    "colab_type": "code",
    "id": "wyWYYrGnWHVk",
    "outputId": "85df8263-3022-4a15-8a64-204ec3ec56a6"
   },
   "outputs": [
    {
     "data": {
      "image/png": "[encoded data removed]",
      "text/plain": [
       "<Figure size 432x288 with 1 Axes>"
      ]
     },
     "metadata": {
      "needs_background": "light"
     },
     "output_type": "display_data"
    }
   ],
   "source": [
    "import numpy as np\n",
    "import matplotlib.pyplot as plt\n",
    "\n",
    "from sklearn.linear_model import LinearRegression\n",
    "\n",
    "np.random.seed(0)\n",
    "x = 2 - 3 * np.random.normal(0, 1, 20)\n",
    "y = x - 2 * (x ** 2) + 0.5 * (x ** 3) + np.random.normal(-3, 3, 20)\n",
    "\n",
    "# transforming the data to include another axis\n",
    "x = x[:, np.newaxis]\n",
    "y = y[:, np.newaxis]\n",
    "\n",
    "model = LinearRegression()\n",
    "model.fit(x, y)\n",
    "y_pred = model.predict(x)\n",
    "\n",
    "plt.scatter(x, y, s=10)\n",
    "plt.plot(x, y_pred, color='r')\n",
    "plt.show()"
   ]
  },
  {
   "cell_type": "markdown",
   "metadata": {
    "colab_type": "text",
    "id": "_jdDSF1KhGCA"
   },
   "source": [
    "В данном примере найден полином первой степени. Как можно улучшить данную модель? Написать пример. "
   ]
  },
  {
   "cell_type": "code",
   "execution_count": 37,
   "metadata": {},
   "outputs": [
    {
     "data": {
      "image/png": "[encoded data removed]",
      "text/plain": [
       "<Figure size 432x288 with 1 Axes>"
      ]
     },
     "metadata": {
      "needs_background": "light"
     },
     "output_type": "display_data"
    }
   ],
   "source": [
    "from sklearn.preprocessing import PolynomialFeatures \n",
    "  \n",
    "polyModel = PolynomialFeatures(degree = 3) \n",
    "X_poly = polyModel.fit_transform(x) \n",
    "polyModel.fit(X_poly, y) \n",
    "linModel = LinearRegression()\n",
    "model = linModel.fit(X_poly, y) \n",
    "y_pred = model.predict(polyModel.fit_transform(x))\n",
    "plt.scatter(x, y, marker='o')\n",
    "plt.scatter(x, y_pred, marker = \"x\")\n",
    "plt.show()\n",
    "\n"
   ]
  },
  {
   "cell_type": "code",
   "execution_count": null,
   "metadata": {},
   "outputs": [],
   "source": []
  }
 ],
 "metadata": {
  "colab": {
   "include_colab_link": true,
   "name": "Untitled2.ipynb",
   "provenance": [],
   "version": "0.3.2"
  },
  "kernelspec": {
   "display_name": "Python 3",
   "language": "python",
   "name": "python3"
  },
  "language_info": {
   "codemirror_mode": {
    "name": "ipython",
    "version": 3
   },
   "file_extension": ".py",
   "mimetype": "text/x-python",
   "name": "python",
   "nbconvert_exporter": "python",
   "pygments_lexer": "ipython3",
   "version": "3.7.1"
  }
 },
 "nbformat": 4,
 "nbformat_minor": 1
}
